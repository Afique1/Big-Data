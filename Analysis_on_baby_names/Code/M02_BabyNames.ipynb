{
  "nbformat": 4,
  "nbformat_minor": 0,
  "metadata": {
    "colab": {
      "provenance": [],
      "toc_visible": true,
      "authorship_tag": "ABX9TyM9Zm2G2h2CLT0J1ZfkhoKN",
      "include_colab_link": true
    },
    "kernelspec": {
      "name": "python3",
      "display_name": "Python 3"
    },
    "language_info": {
      "name": "python"
    }
  },
  "cells": [
    {
      "cell_type": "markdown",
      "metadata": {
        "id": "view-in-github",
        "colab_type": "text"
      },
      "source": [
        "<a href=\"https://colab.research.google.com/github/Afique1/Big-Data/blob/main/Analysis_on_baby_names/Code/M02_BabyNames.ipynb\" target=\"_parent\"><img src=\"https://colab.research.google.com/assets/colab-badge.svg\" alt=\"Open In Colab\"/></a>"
      ]
    },
    {
      "cell_type": "markdown",
      "source": [
        "# Analysis on Baby Names\n",
        "There are multiple files of baby name (for year 2000, 2002, 2004, 2006 and 2008.)"
      ],
      "metadata": {
        "id": "GeheBO0V3F0P"
      }
    },
    {
      "cell_type": "markdown",
      "source": [
        "The files can be found here: https://github.com/Afique1/Big-Data/blob/main/Analysis_on_baby_names/Data/"
      ],
      "metadata": {
        "id": "_NXIYxTYue_j"
      }
    },
    {
      "cell_type": "markdown",
      "source": [
        "There are total 2 tasks and 7 sub-tasks in this practice. The first task on the USA baby name project is to perform read and write on multiple baby name data, i.e. read files on popular baby names, extract name and rank, write the data fields into a file.\n",
        "\n",
        "You will be provided the dataset in txt format for multiple data files, which includes data on Year 2000, 2002, 2004, 2006 and 2008. As output, these data need to be written into the summary file with requirements. In addition, to generalise the program so that it can apply to arbitrary filenames, in task 2, the above read and write will be coded into python function with multiple arguments."
      ],
      "metadata": {
        "id": "bztjutrDwa1B"
      }
    },
    {
      "cell_type": "code",
      "source": [
        "link_2000 ='https://github.com/Afique1/Big-Data/blob/main/Analysis_on_baby_names/Data/baby_name_2000.txt'\n",
        "link_2002 ='https://github.com/Afique1/Big-Data/blob/main/Analysis_on_baby_names/Data/baby_name_2002.txt'\n",
        "link_2004 ='https://github.com/Afique1/Big-Data/blob/main/Analysis_on_baby_names/Data/baby_name_2004.txt'\n",
        "link_2006 ='https://github.com/Afique1/Big-Data/blob/main/Analysis_on_baby_names/Data/baby_name_2006.txt'\n",
        "link_2008 ='https://github.com/Afique1/Big-Data/blob/main/Analysis_on_baby_names/Data/baby_name_2008.txt'"
      ],
      "metadata": {
        "id": "NgGkq0Xixs44"
      },
      "execution_count": 2,
      "outputs": []
    },
    {
      "cell_type": "markdown",
      "source": [
        "## Task1\n",
        "Writing and Reading Text Files\n"
      ],
      "metadata": {
        "id": "Qj-O77Udwrnb"
      }
    },
    {
      "cell_type": "markdown",
      "source": [
        "### 1.1\n",
        "we will use open() method with nested for loop to read information from the single file or multiple files."
      ],
      "metadata": {
        "id": "tJSU-VsqwumB"
      }
    },
    {
      "cell_type": "code",
      "source": [],
      "metadata": {
        "id": "I0wrSCexxbgX"
      },
      "execution_count": null,
      "outputs": []
    },
    {
      "cell_type": "markdown",
      "source": [
        "### 1.2\n",
        "We will use the fileinput method to read information from multiple files without nested for loop."
      ],
      "metadata": {
        "id": "Hol_rEt7w5R1"
      }
    },
    {
      "cell_type": "markdown",
      "source": [
        "### 1.3\n",
        "We will read and write all the txt files to new file in the given input path without manually adding filenames."
      ],
      "metadata": {
        "id": "QlWwTR0Nw9oQ"
      }
    },
    {
      "cell_type": "markdown",
      "source": [
        "### 1.4\n",
        "We will read and write all the txt files to new file in the given input path without manually adding filenames, and also the writing will be done with specific format (format is given in notebook)."
      ],
      "metadata": {
        "id": "VTQVhYZjxAwW"
      }
    },
    {
      "cell_type": "markdown",
      "source": [
        "### 1.5\n",
        "We will read and write all the txt files to new file in the given input path without manually adding filenames, and also the start letter of the name is with requirements (requirements are given in notebook).\n",
        "\n",
        "Here is what is written into the new file on condition of start letter with 'B'"
      ],
      "metadata": {
        "id": "d330SZvTxEUv"
      }
    },
    {
      "cell_type": "markdown",
      "source": [
        "### 1.6\n",
        "We will read and write all the txt files to new file in the given input path without manually adding filenames, and also the start letter of the name is with requirements. Lastly, we will sort the names by count in desc order.\n",
        "\n",
        "Here is what is written into the new file on condition of start letter with 'B'"
      ],
      "metadata": {
        "id": "jIshXT1SxKps"
      }
    },
    {
      "cell_type": "markdown",
      "source": [
        "## Task 2: Design the Python function for extracting the names\n"
      ],
      "metadata": {
        "id": "tR2A_ONVxL2U"
      }
    },
    {
      "cell_type": "markdown",
      "source": [
        "### 2.1\n",
        "We will write the function which could read the particular file and output new file with arguments. The arguments should contain the input data path, the new file name, the gender and start letter."
      ],
      "metadata": {
        "id": "uEnsJQvqxPFt"
      }
    },
    {
      "cell_type": "code",
      "source": [],
      "metadata": {
        "colab": {
          "base_uri": "https://localhost:8080/"
        },
        "id": "GzmDLxj92yDf",
        "outputId": "3f0d87ab-7c7d-4839-9bf4-2f71dcee0dc6"
      },
      "execution_count": null,
      "outputs": [
        {
          "output_type": "execute_result",
          "data": {
            "text/plain": [
              "True"
            ]
          },
          "metadata": {},
          "execution_count": 2
        }
      ]
    }
  ]
}